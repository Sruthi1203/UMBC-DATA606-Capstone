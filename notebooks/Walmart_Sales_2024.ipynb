{
 "cells": [
  {
   "cell_type": "code",
   "execution_count": 1,
   "id": "3a7ac4e0",
   "metadata": {},
   "outputs": [
    {
     "name": "stderr",
     "output_type": "stream",
     "text": [
      "C:\\Users\\sruth\\anaconda3\\Lib\\site-packages\\pandas\\core\\arrays\\masked.py:61: UserWarning: Pandas requires version '1.3.6' or newer of 'bottleneck' (version '1.3.5' currently installed).\n",
      "  from pandas.core import (\n"
     ]
    }
   ],
   "source": [
    "import pandas as pd"
   ]
  },
  {
   "cell_type": "code",
   "execution_count": 2,
   "id": "1a4661b3",
   "metadata": {},
   "outputs": [
    {
     "name": "stdout",
     "output_type": "stream",
     "text": [
      "Initial rows: 5000\n",
      "Initial columns: ['transaction_id', 'customer_id', 'product_id', 'product_name', 'category', 'quantity_sold', 'unit_price', 'transaction_date', 'store_id', 'store_location', 'inventory_level', 'reorder_point', 'reorder_quantity', 'supplier_id', 'supplier_lead_time', 'customer_age', 'customer_gender', 'customer_income', 'customer_loyalty_level', 'payment_method', 'promotion_applied', 'promotion_type', 'weather_conditions', 'holiday_indicator', 'weekday', 'stockout_indicator', 'forecasted_demand', 'actual_demand']\n"
     ]
    }
   ],
   "source": [
    "df = pd.read_csv(\"walmart.csv\", low_memory=False)\n",
    "print(\"Initial rows:\", len(df))\n",
    "print(\"Initial columns:\", df.columns.tolist())"
   ]
  },
  {
   "cell_type": "code",
   "execution_count": 3,
   "id": "20975c0f",
   "metadata": {},
   "outputs": [],
   "source": [
    "keep_cols = [\n",
    "    \"transaction_date\",\"product_id\",\"product_name\",\"category\",\n",
    "    \"quantity_sold\",\"unit_price\",\n",
    "    \"inventory_level\",\"reorder_point\",\"reorder_quantity\",\"stockout_indicator\",\n",
    "    \"promotion_applied\",\"promotion_type\",\"holiday_indicator\",\"weather_conditions\",\n",
    "    \"customer_id\",\"customer_loyalty_level\",\"payment_method\"\n",
    "]\n",
    "df = df[[c for c in keep_cols if c in df.columns]]"
   ]
  },
  {
   "cell_type": "code",
   "execution_count": 4,
   "id": "9b66f0dd",
   "metadata": {},
   "outputs": [],
   "source": [
    "# 3) Standardize column names (snake_case)\n",
    "df.columns = df.columns.str.strip().str.lower().str.replace(\" \",\"_\")"
   ]
  },
  {
   "cell_type": "code",
   "execution_count": 5,
   "id": "87865cc9",
   "metadata": {},
   "outputs": [],
   "source": [
    "# 4) Convert datatypes\n",
    "if \"transaction_date\" in df.columns:\n",
    "    df[\"transaction_date\"] = pd.to_datetime(df[\"transaction_date\"], errors=\"coerce\")\n",
    "\n",
    "if \"quantity_sold\" in df.columns:\n",
    "    df[\"quantity_sold\"] = pd.to_numeric(df[\"quantity_sold\"], errors=\"coerce\").fillna(0).astype(int)\n",
    "\n",
    "if \"unit_price\" in df.columns:\n",
    "    df[\"unit_price\"] = pd.to_numeric(df[\"unit_price\"], errors=\"coerce\")"
   ]
  },
  {
   "cell_type": "code",
   "execution_count": 6,
   "id": "90d33620",
   "metadata": {},
   "outputs": [],
   "source": [
    "df = df.dropna(subset=[\"product_id\",\"product_name\"])"
   ]
  },
  {
   "cell_type": "code",
   "execution_count": 7,
   "id": "96800504",
   "metadata": {},
   "outputs": [],
   "source": [
    "df = df.drop_duplicates()"
   ]
  },
  {
   "cell_type": "code",
   "execution_count": 8,
   "id": "c49a8dd7",
   "metadata": {},
   "outputs": [
    {
     "name": "stdout",
     "output_type": "stream",
     "text": [
      "Cleaned rows: 5000\n",
      "Columns kept: ['transaction_date', 'product_id', 'product_name', 'category', 'quantity_sold', 'unit_price', 'inventory_level', 'reorder_point', 'reorder_quantity', 'stockout_indicator', 'promotion_applied', 'promotion_type', 'holiday_indicator', 'weather_conditions', 'customer_id', 'customer_loyalty_level', 'payment_method']\n",
      "     transaction_date  product_id product_name     category  quantity_sold  \\\n",
      "0 2024-03-31 21:46:00         843       Fridge  Electronics              3   \n",
      "1 2024-07-28 12:45:00         135           TV  Electronics              4   \n",
      "2 2024-06-10 04:55:00         391       Fridge  Electronics              4   \n",
      "3 2024-08-15 01:03:00         710   Smartphone  Electronics              5   \n",
      "4 2024-09-13 00:45:00         116       Laptop  Electronics              3   \n",
      "\n",
      "   unit_price  inventory_level  reorder_point  reorder_quantity  \\\n",
      "0      188.46              246            116               170   \n",
      "1     1912.04               43             70               212   \n",
      "2     1377.75              411             94               252   \n",
      "3      182.31              452             87               112   \n",
      "4      499.28              412             99               177   \n",
      "\n",
      "   stockout_indicator  promotion_applied       promotion_type  \\\n",
      "0                True               True                  NaN   \n",
      "1                True               True  Percentage Discount   \n",
      "2                True              False                  NaN   \n",
      "3               False               True  Percentage Discount   \n",
      "4                True              False                  NaN   \n",
      "\n",
      "   holiday_indicator weather_conditions  customer_id customer_loyalty_level  \\\n",
      "0              False             Stormy         2824                 Silver   \n",
      "1              False              Rainy         1409                   Gold   \n",
      "2              False              Sunny         5506               Platinum   \n",
      "3               True              Sunny         5012                 Silver   \n",
      "4              False              Sunny         4657                 Bronze   \n",
      "\n",
      "   payment_method  \n",
      "0     Credit Card  \n",
      "1            Cash  \n",
      "2            Cash  \n",
      "3            Cash  \n",
      "4  Digital Wallet  \n"
     ]
    }
   ],
   "source": [
    "df.to_csv(\"Walmart_Sales_2024.csv\", index=False)\n",
    "print(\"Cleaned rows:\", len(df))\n",
    "print(\"Columns kept:\", df.columns.tolist())\n",
    "print(df.head())"
   ]
  },
  {
   "cell_type": "code",
   "execution_count": null,
   "id": "0e750e62",
   "metadata": {},
   "outputs": [],
   "source": []
  }
 ],
 "metadata": {
  "kernelspec": {
   "display_name": "Python 3 (ipykernel)",
   "language": "python",
   "name": "python3"
  },
  "language_info": {
   "codemirror_mode": {
    "name": "ipython",
    "version": 3
   },
   "file_extension": ".py",
   "mimetype": "text/x-python",
   "name": "python",
   "nbconvert_exporter": "python",
   "pygments_lexer": "ipython3",
   "version": "3.11.5"
  }
 },
 "nbformat": 4,
 "nbformat_minor": 5
}
